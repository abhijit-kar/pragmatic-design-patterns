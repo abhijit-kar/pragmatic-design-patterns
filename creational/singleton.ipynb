{
 "cells": [
  {
   "cell_type": "markdown",
   "metadata": {},
   "source": [
    "# SIngleton Pattern\n",
    "1. Comes under Creational Pattern\n",
    "1. Used to control access to Class instances\n",
    "1. And to ensure that the class has only on instance\n",
    "1. Provides a global point of access\n",
    "1. The class itself is responsible for creating the instance\n",
    "1. Supports Lazy Instantiation\n",
    "1. Reduces the global namespace\n",
    "1. Subclassible for extended use\n",
    "1. Variable number of instances possible with - Base Class and Meta Class variants\n",
    "1. More flexible than static class - math - has no instance\n",
    "\n",
    "> **Usefull for** Controlling access to limited resources\n",
    "> - Device Access\n",
    "> - Buffer pools\n",
    "> - Web/DB connection pools\n",
    "> - Lazy Instantiation for heavy service\n",
    "\n",
    "> Use it sparingly! as it's an **Antipattern**"
   ]
  },
  {
   "cell_type": "code",
   "execution_count": 1,
   "metadata": {
    "collapsed": true
   },
   "outputs": [],
   "source": [
    "class Singleton():\n",
    "    ans = 'Meh'\n",
    "    \n",
    "    @staticmethod\n",
    "    def instance():\n",
    "        if '_instance' not in Singleton.__dict__:\n",
    "            Singleton._instance = Singleton()\n",
    "        return Singleton._instance"
   ]
  },
  {
   "cell_type": "code",
   "execution_count": 2,
   "metadata": {},
   "outputs": [
    {
     "data": {
      "text/plain": [
       "True"
      ]
     },
     "execution_count": 2,
     "metadata": {},
     "output_type": "execute_result"
    }
   ],
   "source": [
    "s1 = Singleton.instance()\n",
    "s2 = Singleton.instance()\n",
    "\n",
    "s1 is s2"
   ]
  },
  {
   "cell_type": "code",
   "execution_count": 3,
   "metadata": {},
   "outputs": [
    {
     "data": {
      "text/plain": [
       "'One Instance to rule them all!'"
      ]
     },
     "execution_count": 3,
     "metadata": {},
     "output_type": "execute_result"
    }
   ],
   "source": [
    "s1.ans = 'One Instance to rule them all!'\n",
    "\n",
    "s2.ans"
   ]
  },
  {
   "cell_type": "markdown",
   "metadata": {},
   "source": [
    "# Logging Subsystem\n",
    "1. Logs events to a file\n",
    "1. Only one instance can write to the file\n",
    "1. Need to control access"
   ]
  },
  {
   "cell_type": "markdown",
   "metadata": {},
   "source": [
    "# Classic Singleton"
   ]
  },
  {
   "cell_type": "code",
   "execution_count": 4,
   "metadata": {
    "collapsed": true
   },
   "outputs": [],
   "source": [
    "import datetime"
   ]
  },
  {
   "cell_type": "code",
   "execution_count": 5,
   "metadata": {
    "collapsed": true
   },
   "outputs": [],
   "source": [
    "class Logger():\n",
    "    log_file = None\n",
    "    \n",
    "    @staticmethod\n",
    "    def instance():\n",
    "        if '_instance' not in Logger.__dict__:\n",
    "            Logger._instance = Logger()\n",
    "        return Logger._instance\n",
    "    \n",
    "    def open_log(self, path):\n",
    "        self.log_file = open(path, mode='w')\n",
    "        \n",
    "    def write_log(self, log_record):\n",
    "        now = datetime.datetime.now()\n",
    "        record = f'{now}: {log_record}'\n",
    "        self.log_file.writelines(record)\n",
    "        \n",
    "    def close_log(self):\n",
    "        self.log_file.close()"
   ]
  },
  {
   "cell_type": "code",
   "execution_count": 6,
   "metadata": {
    "collapsed": true
   },
   "outputs": [],
   "source": [
    "logger = Logger.instance()\n",
    "logger.open_log('../output/test.log')\n",
    "logger.write_log('Writing Logs using classic Singleton pattern!\\n')\n",
    "logger.write_log('Usefull for Debug Purpose!')\n",
    "logger.close_log()"
   ]
  },
  {
   "cell_type": "code",
   "execution_count": 7,
   "metadata": {},
   "outputs": [
    {
     "name": "stdout",
     "output_type": "stream",
     "text": [
      "2017-12-15 01:55:33.289831: Writing Logs using classic Singleton pattern!\n",
      "2017-12-15 01:55:33.289831: Usefull for Debug Purpose!"
     ]
    }
   ],
   "source": [
    "with open('../output/test.log', 'r') as file:\n",
    "    for line in file:\n",
    "        print(line, end='')"
   ]
  },
  {
   "cell_type": "markdown",
   "metadata": {},
   "source": [
    "# Problems with Singleton - Antipattern\n",
    "1. Violates Single Responsibility - Look after their own instantiation then hold and process that state\n",
    "1. Non standard class access\n",
    "1. Harder to test\n",
    "1. Carry global state\n",
    "1. Hard to sub class\n",
    "1. Tight coupling with driver program\n",
    "1. Maintenance Issue"
   ]
  },
  {
   "cell_type": "markdown",
   "metadata": {},
   "source": [
    "# Solution\n",
    "Although - below issues still remain\n",
    "1. Testing Issue\n",
    "1. Global State\n",
    "1. Maintenance Issue"
   ]
  },
  {
   "cell_type": "markdown",
   "metadata": {},
   "source": [
    "# Modified Singleton"
   ]
  },
  {
   "cell_type": "code",
   "execution_count": 8,
   "metadata": {
    "collapsed": true
   },
   "outputs": [],
   "source": [
    "class Singleton:\n",
    "    _instances = {}\n",
    "    \n",
    "    def __new__(cls, *args, **kwargs):\n",
    "        if cls not in cls._instances:\n",
    "            instance = super().__new__(cls)\n",
    "            cls._instances[cls] = instance\n",
    "            \n",
    "        return cls._instances[cls]"
   ]
  },
  {
   "cell_type": "code",
   "execution_count": 9,
   "metadata": {
    "collapsed": true
   },
   "outputs": [],
   "source": [
    "class BetterLogger(Singleton):\n",
    "    log_file = None\n",
    "    \n",
    "    def __init__(self, path):\n",
    "        if self.log_file is None:\n",
    "            self.log_file = open(path, mode='w')\n",
    "        \n",
    "    def write_log(self, log_record):\n",
    "        now = datetime.datetime.now()\n",
    "        record = f'{now}: {log_record}'\n",
    "        self.log_file.writelines(record)\n",
    "        \n",
    "    def close_log(self):\n",
    "        self.log_file.close()"
   ]
  },
  {
   "cell_type": "code",
   "execution_count": 10,
   "metadata": {
    "collapsed": true
   },
   "outputs": [],
   "source": [
    "logger = BetterLogger('../output/test.log')\n",
    "logger.write_log('Writing Logs using Better Singleton pattern!\\n')\n",
    "logger_2 = BetterLogger('../output/this-file-name-will-be-ignored.log')\n",
    "logger.write_log('It solves many problems inherent with Singleton')\n",
    "logger.close_log()"
   ]
  },
  {
   "cell_type": "code",
   "execution_count": 11,
   "metadata": {},
   "outputs": [
    {
     "name": "stdout",
     "output_type": "stream",
     "text": [
      "2017-12-15 01:55:33.368593: Writing Logs using Better Singleton pattern!\n",
      "2017-12-15 01:55:33.368593: It solves many problems inherent with Singleton"
     ]
    }
   ],
   "source": [
    "with open('../output/test.log', 'r') as file:\n",
    "    for line in file:\n",
    "        print(line, end='')"
   ]
  },
  {
   "cell_type": "markdown",
   "metadata": {},
   "source": [
    "# Even Better Singleton\n",
    "Using Metaclass\n",
    "1. A class is an instance of a Metaclass\n",
    "1. Metaclass controls the building of a class"
   ]
  },
  {
   "cell_type": "code",
   "execution_count": 12,
   "metadata": {
    "collapsed": true
   },
   "outputs": [],
   "source": [
    "class Singleton(type):\n",
    "    _instances = {}\n",
    "    \n",
    "    def __call__(cls, *args, **kwargs):\n",
    "        if cls not in cls._instances:\n",
    "            instance = super().__call__(*args, **kwargs)\n",
    "            cls._instances[cls] = instance\n",
    "            \n",
    "        return cls._instances[cls]"
   ]
  },
  {
   "cell_type": "code",
   "execution_count": 13,
   "metadata": {
    "collapsed": true
   },
   "outputs": [],
   "source": [
    "class EvenBetterLogger(metaclass=Singleton):\n",
    "    log_file = None\n",
    "    \n",
    "    def __init__(self, path):\n",
    "        if self.log_file is None:\n",
    "            self.log_file = open(path, mode='w')\n",
    "        \n",
    "    def write_log(self, log_record):\n",
    "        now = datetime.datetime.now()\n",
    "        record = f'{now}: {log_record}'\n",
    "        self.log_file.writelines(record)\n",
    "        \n",
    "    def close_log(self):\n",
    "        self.log_file.close()"
   ]
  },
  {
   "cell_type": "code",
   "execution_count": 14,
   "metadata": {
    "collapsed": true
   },
   "outputs": [],
   "source": [
    "logger = EvenBetterLogger('../output/test.log')\n",
    "logger.write_log('Writing Logs using Even Better Singleton pattern!\\n')\n",
    "logger_2 = EvenBetterLogger('../output/this-file-name-will-be-ignored.log')\n",
    "logger.write_log('It solves the separation of concern problem')\n",
    "logger.close_log()"
   ]
  },
  {
   "cell_type": "code",
   "execution_count": 15,
   "metadata": {},
   "outputs": [
    {
     "name": "stdout",
     "output_type": "stream",
     "text": [
      "2017-12-15 01:55:33.443589: Writing Logs using Even Better Singleton pattern!\n",
      "2017-12-15 01:55:33.443589: It solves the separation of concern problem"
     ]
    }
   ],
   "source": [
    "with open('../output/test.log', 'r') as file:\n",
    "    for line in file:\n",
    "        print(line, end='')"
   ]
  },
  {
   "cell_type": "markdown",
   "metadata": {},
   "source": [
    "# MonoState Pattern\n",
    "1. It's okay with global state\n",
    "1. It takes advantage of python's dynamic nature\n",
    "1. Usefull for multiple instances, but we want them to share same state"
   ]
  },
  {
   "cell_type": "code",
   "execution_count": 16,
   "metadata": {
    "collapsed": true
   },
   "outputs": [],
   "source": [
    "class MonoState():\n",
    "    _state = {}\n",
    "    \n",
    "    def __new__(cls, *args, **kwargs):\n",
    "        self = super().__new__(cls)\n",
    "        self.__dict__ = cls._state\n",
    "        \n",
    "        return self"
   ]
  },
  {
   "cell_type": "code",
   "execution_count": 17,
   "metadata": {
    "collapsed": true
   },
   "outputs": [],
   "source": [
    "class BestLogger(MonoState):\n",
    "    log_file = None\n",
    "    \n",
    "    def __init__(self, path):\n",
    "        if self.log_file is None:\n",
    "            self.log_file = open(path, mode='w')\n",
    "        \n",
    "    def write_log(self, log_record):\n",
    "        now = datetime.datetime.now()\n",
    "        record = f'{now}: {log_record}'\n",
    "        self.log_file.writelines(record)\n",
    "        \n",
    "    def close_log(self):\n",
    "        self.log_file.close()"
   ]
  },
  {
   "cell_type": "code",
   "execution_count": 18,
   "metadata": {
    "collapsed": true
   },
   "outputs": [],
   "source": [
    "logger = BestLogger('../output/test.log')\n",
    "logger.write_log('Writing Logs using Mono State!\\n')\n",
    "logger_2 = BestLogger('../output/this-file-name-will-be-ignored.log')\n",
    "logger.write_log(\"It's okay with a global state!\")\n",
    "logger.close_log()"
   ]
  },
  {
   "cell_type": "code",
   "execution_count": 19,
   "metadata": {},
   "outputs": [
    {
     "name": "stdout",
     "output_type": "stream",
     "text": [
      "2017-12-15 01:55:33.517588: Writing Logs using Mono State!\n",
      "2017-12-15 01:55:33.517588: It's okay with a global state!"
     ]
    }
   ],
   "source": [
    "with open('../output/test.log', 'r') as file:\n",
    "    for line in file:\n",
    "        print(line, end='')"
   ]
  }
 ],
 "metadata": {
  "kernelspec": {
   "display_name": "Python 3",
   "language": "python",
   "name": "python3"
  },
  "language_info": {
   "codemirror_mode": {
    "name": "ipython",
    "version": 3
   },
   "file_extension": ".py",
   "mimetype": "text/x-python",
   "name": "python",
   "nbconvert_exporter": "python",
   "pygments_lexer": "ipython3",
   "version": "3.6.3"
  }
 },
 "nbformat": 4,
 "nbformat_minor": 2
}
