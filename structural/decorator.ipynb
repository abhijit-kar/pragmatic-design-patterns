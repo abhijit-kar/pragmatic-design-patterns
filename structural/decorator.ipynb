{
 "cells": [
  {
   "cell_type": "markdown",
   "metadata": {},
   "source": [
    "# Decorator Pattern\n",
    "1. Help reduce a profusion of subclasses by adding additional responsibilities at runtime"
   ]
  },
  {
   "cell_type": "markdown",
   "metadata": {},
   "source": [
    "# Car Dealership\n",
    "Three Models\n",
    "- Economy\n",
    "- Luxury\n",
    "- Sport\n",
    "\n",
    "Options\n",
    "- Engine - 4 or 6 Cylinders\n",
    "- Paint - White, Red or Black\n",
    "- Upholstery - Leather or Vinyl"
   ]
  }
 ],
 "metadata": {
  "kernelspec": {
   "display_name": "Python 3",
   "language": "python",
   "name": "python3"
  },
  "language_info": {
   "codemirror_mode": {
    "name": "ipython",
    "version": 3
   },
   "file_extension": ".py",
   "mimetype": "text/x-python",
   "name": "python",
   "nbconvert_exporter": "python",
   "pygments_lexer": "ipython3",
   "version": "3.6.3"
  }
 },
 "nbformat": 4,
 "nbformat_minor": 2
}
